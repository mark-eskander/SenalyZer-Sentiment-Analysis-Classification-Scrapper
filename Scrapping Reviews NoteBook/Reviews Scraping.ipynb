{
 "cells": [
  {
   "cell_type": "code",
   "execution_count": 1,
   "id": "b6a58f05",
   "metadata": {},
   "outputs": [],
   "source": [
    "from selenium import webdriver\n",
    "from selenium.webdriver.support.ui import Select\n",
    "from selenium.webdriver.chrome.service import Service\n",
    "from selenium.webdriver.common.by import By\n",
    "from selenium.common.exceptions import NoSuchElementException\n",
    "import pandas as pd\n",
    "import time\n",
    "import re\n",
    "import requests\n",
    "from time import sleep"
   ]
  },
  {
   "cell_type": "markdown",
   "id": "a9007356",
   "metadata": {},
   "source": [
    "* **requests: Allows sending HTTP requests to interact with web APIs.**\n",
    "* **selenium: Automates web browsers, enabling interaction with web elements to scrape data.**\n",
    "* **By: Used to locate elements on a web page.**\n",
    "* **NoSuchElementException, TimeoutException: Handle exceptions when elements are not found or operations time out.**\n",
    "* **WebDriverWait, EC: Implement dynamic waiting to wait for elements to appear or disappear.**"
   ]
  },
  {
   "cell_type": "code",
   "execution_count": 2,
   "id": "ffe1aeb4",
   "metadata": {},
   "outputs": [],
   "source": [
    "def scrape_reviews(url, output_file_path, chromedriver_path):\n",
    "    # Create a new service object with ChromeDriver executable path\n",
    "    service = Service(chromedriver_path)\n",
    "    \n",
    "    # Create a new instance of Chrome WebDriver with the service\n",
    "    driver = webdriver.Chrome(service=service)\n",
    "    \n",
    "    # Open the provided URL\n",
    "    driver.get(url)\n",
    "    \n",
    "    driver.maximize_window()\n",
    "    \n",
    "    try:\n",
    "        more_review_button = driver.find_element(By.XPATH, \"(//a[@class='a-link-emphasis a-text-bold'])\")\n",
    "        more_review_button.click()\n",
    "        reviews = []\n",
    "        for i in range(100):\n",
    "            print('Scraping page', i+1)\n",
    "            review = driver.find_elements(By.XPATH, \"//span[@class='a-size-base review-text review-text-content']\")\n",
    "            for r in review:\n",
    "                reviews.append(r.text)\n",
    "            try:\n",
    "                next_button = driver.find_element(By.XPATH, \"//a[text()='Next page']\")\n",
    "                next_button.click()\n",
    "                sleep(10)\n",
    "            except NoSuchElementException:\n",
    "                print(\"No more pages to scrape. Stopping.\")\n",
    "                break\n",
    "\n",
    "        driver.quit()\n",
    "\n",
    "        # Create DataFrame in Pandas\n",
    "        df = pd.DataFrame({'Reviews': reviews})\n",
    "\n",
    "        # Export DataFrame to CSV\n",
    "        df.to_csv(output_file_path, index=False, mode='w', encoding='utf-8-sig')  # 'w' mode will override the file if it already exists\n",
    "\n",
    "    except NoSuchElementException:\n",
    "        print(\"The Product has no Reviews.\")"
   ]
  },
  {
   "cell_type": "markdown",
   "id": "505f6ada",
   "metadata": {},
   "source": [
    "* **initialize_driver: Function to set up the Chrome WebDriver with the specified path and options.**\n",
    "* **ChromeDriver: Required executable to control the Chrome browser.**\n",
    "\n",
    "* **scrape_reviews: Main function to scrape reviews from the given URL.**\n",
    "* **Review Extraction: Reviews are extracted from the review elements and stored in a list.**\n",
    "* **Pagination Handling: The script attempts to click the \"Next\" button to load more reviews, handling up to 100 pages.**\n",
    "* **Error Handling: Captures exceptions and ensures the browser is closed properly in the finally block.**"
   ]
  },
  {
   "cell_type": "code",
   "execution_count": 3,
   "id": "808b1b9a",
   "metadata": {},
   "outputs": [],
   "source": [
    "def send_reviews_to_api(reviews, api_endpoint):\n",
    "    try:\n",
    "        response = requests.post(api_endpoint, json={'reviews': reviews})\n",
    "        if response.status_code == 200:\n",
    "            print(\"Sentiment analysis results:\", response.json())\n",
    "            return \"Done!\"\n",
    "        else:\n",
    "            print(f\"Failed to send data. Status code: {response.status_code}\")\n",
    "            return f\"Failed to send data. Status code: {response.status_code}\"\n",
    "    except requests.RequestException as e:\n",
    "        print(f\"An error occurred while sending data to the API: {e}\")\n",
    "        return \"Failed to send data due to a network error\""
   ]
  },
  {
   "cell_type": "markdown",
   "id": "61fe3922",
   "metadata": {},
   "source": [
    "* **send_reviews_to_api: Sends the collected reviews to the specified API endpoint.**\n",
    "* **POST Request: Sends the reviews in JSON format to the API.**\n",
    "* **Error Handling: Catches network-related exceptions and prints appropriate messages.**"
   ]
  },
  {
   "cell_type": "code",
   "execution_count": 4,
   "id": "4b4e3a19",
   "metadata": {},
   "outputs": [
    {
     "name": "stdout",
     "output_type": "stream",
     "text": [
      "Scraping page 1\n",
      "No more pages to scrape. Stopping.\n"
     ]
    }
   ],
   "source": [
    "# Example usage\n",
    "url = \"https://www.amazon.eg/%D9%85%D9%88%D8%A8%D8%A7%D9%8A%D9%84-%D8%B3%D8%A7%D9%85%D8%B3%D9%88%D9%86%D8%AC-%D8%AC%D8%A7%D9%84%D8%A7%D9%83%D8%B3%D9%8A-%D8%A7%D9%86%D8%AF%D8%B1%D9%88%D9%8A%D8%AF-%D8%A8%D8%B4%D8%B1%D9%8A%D8%AD%D8%AA%D9%8A%D9%86/dp/B0BXNW1SP4/ref=pd_rhf_dp_s_pd_crcbs_d_sccl_2_8/258-0173424-6573400?pd_rd_w=lYI8C&content-id=amzn1.sym.61158c5e-d6f1-4356-a455-f35d0aca508d&pf_rd_p=61158c5e-d6f1-4356-a455-f35d0aca508d&pf_rd_r=GM12CPF4AK6E2C52C998&pd_rd_wg=mPU7D&pd_rd_r=454410d4-c8fe-43d5-b15b-d93177218b57&pd_rd_i=B0BXNW1SP4&th=1\"\n",
    "output_file_path = 'E:/Zesco/Reviews.csv'\n",
    "chromedriver_path = 'E:/Zesco/chromedriver.exe'\n",
    "\n",
    "scrape_reviews(url, output_file_path, chromedriver_path)\n"
   ]
  }
 ],
 "metadata": {
  "kernelspec": {
   "display_name": "Python 3 (ipykernel)",
   "language": "python",
   "name": "python3"
  },
  "language_info": {
   "codemirror_mode": {
    "name": "ipython",
    "version": 3
   },
   "file_extension": ".py",
   "mimetype": "text/x-python",
   "name": "python",
   "nbconvert_exporter": "python",
   "pygments_lexer": "ipython3",
   "version": "3.9.13"
  }
 },
 "nbformat": 4,
 "nbformat_minor": 5
}
